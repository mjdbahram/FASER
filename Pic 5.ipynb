{
 "cells": [
  {
   "cell_type": "code",
   "execution_count": 5,
   "metadata": {},
   "outputs": [],
   "source": [
    "import numpy as np\n",
    "import matplotlib.pyplot as plt\n",
    "from matplotlib import rc\n",
    "font = {'family' : 'normal',\n",
    "        'weight' : 'bold',\n",
    "        'size'   : 22}\n",
    "\n",
    "rc('font', **font)\n",
    "rc('text', usetex=True)"
   ]
  },
  {
   "cell_type": "code",
   "execution_count": 6,
   "metadata": {},
   "outputs": [],
   "source": [
    "file_name = {}\n",
    "for i in np.arange(1, 51, 1):\n",
    "    mv_prefix = '0.'\n",
    "    i = str(i)\n",
    "    i = i.zfill(3)+'000'\n",
    "    mv = mv_prefix+i\n",
    "\n",
    "    file_name[\"mV=%s_NOE_BSM_anu_e_mu_gee.txt\"%mv] = np.loadtxt(\"./output/\"+\"mV=%s_NOE_BSM_anu_e_mu_gee.txt\"%mv)\n",
    "    file_name[\"mV=%s_NOE_BSM_anu_e_mu_get.txt\"%mv] = np.loadtxt(\"./output/\"+\"mV=%s_NOE_BSM_anu_e_mu_get.txt\"%mv)\n",
    "    file_name[\"mV=%s_NOE_BSM_anu_tau_mu_get.txt\"%mv] = np.loadtxt(\"./output/\"+\"mV=%s_NOE_BSM_anu_tau_mu_get.txt\"%mv)\n",
    "    file_name[\"mV=%s_NOE_BSM_nu_e_mu_gee.txt\"%mv] = np.loadtxt(\"./output/\"+\"mV=%s_NOE_BSM_nu_e_mu_gee.txt\"%mv)\n",
    "    file_name[\"mV=%s_NOE_BSM_nu_e_mu_get.txt\"%mv] = np.loadtxt(\"./output/\"+\"mV=%s_NOE_BSM_nu_e_mu_get.txt\"%mv)\n",
    "    file_name[\"mV=%s_NOE_BSM_nu_tau_mu_get.txt\"%mv] = np.loadtxt(\"./output/\"+\"mV=%s_NOE_BSM_nu_tau_mu_get.txt\"%mv)\n",
    "    \n",
    "    file_name[\"mV=%s_NOE_SM_anu_e.txt\"%mv] = np.loadtxt(\"./output/\"+\"mV=%s_NOE_SM_anu_e.txt\"%mv)\n",
    "    file_name[\"mV=%s_NOE_SM_anu_tau.txt\"%mv] = np.loadtxt(\"./output/\"+\"mV=%s_NOE_SM_anu_tau.txt\"%mv)\n",
    "    file_name[\"mV=%s_NOE_SM_nu_e.txt\"%mv] = np.loadtxt(\"./output/\"+\"mV=%s_NOE_SM_nu_e.txt\"%mv)\n",
    "    file_name[\"mV=%s_NOE_SM_nu_tau.txt\"%mv] = np.loadtxt(\"./output/\"+\"mV=%s_NOE_SM_nu_tau.txt\"%mv)"
   ]
  },
  {
   "cell_type": "code",
   "execution_count": 7,
   "metadata": {},
   "outputs": [],
   "source": [
    "n_faser = 200000"
   ]
  },
  {
   "cell_type": "code",
   "execution_count": 8,
   "metadata": {},
   "outputs": [],
   "source": [
    "def chi2_get(SM_anu_e,\n",
    "             SM_nu_e,\n",
    "             SM_anu_tau,\n",
    "             SM_nu_tau,\n",
    "             BSM_nu_e_mu_get,\n",
    "             BSM_anu_e_mu_get,\n",
    "             BSM_nu_tau_mu_get,\n",
    "             BSM_anu_tau_mu_get,\n",
    "             NOE_nu_e_BSM_BEST,\n",
    "             NOE_nu_tau_BSM_BEST,\n",
    "             NOE_anu_e_BSM_BEST,\n",
    "             NOE_anu_tau_BSM_BEST,\n",
    "             get,\n",
    "             n_faser):\n",
    "    \n",
    "    SM_anu_e = n_faser * SM_anu_e\n",
    "    SM_nu_e = n_faser * SM_nu_e\n",
    "\n",
    "    SM_anu_tau = n_faser * SM_anu_tau\n",
    "    SM_nu_tau = n_faser * SM_nu_tau\n",
    "    \n",
    "    BSM_nu_e_mu_get = n_faser * BSM_nu_e_mu_get\n",
    "    BSM_anu_e_mu_get = n_faser * BSM_anu_e_mu_get\n",
    "    \n",
    "    BSM_nu_tau_mu_get = n_faser * BSM_nu_tau_mu_get\n",
    "    BSM_anu_tau_mu_get = n_faser * BSM_anu_tau_mu_get\n",
    "    \n",
    "    NOE_nu_e_BSM_BEST = n_faser  * NOE_nu_e_BSM_BEST\n",
    "    NOE_nu_tau_BSM_BEST = n_faser * NOE_nu_tau_BSM_BEST\n",
    "    NOE_anu_e_BSM_BEST = n_faser * NOE_anu_e_BSM_BEST\n",
    "    NOE_anu_tau_BSM_BEST = n_faser *NOE_anu_tau_BSM_BEST\n",
    "    \n",
    "    # chi nu\n",
    "    thrd_num = 10\n",
    "    chi_nu = 0.0\n",
    "    for i in range(len(SM_nu_e)):\n",
    "        if SM_nu_e[i] !=  0:\n",
    "            noe_th_e = (get**2)*BSM_nu_e_mu_get[i] + SM_nu_e[i]\n",
    "            noe_exp_e = ((0.002)**2)*NOE_nu_e_BSM_BEST[i] + SM_nu_e[i]            \n",
    "            if SM_nu_e[i] < thrd_num:\n",
    "                chi_nu += 2*(noe_th_e - noe_exp_e + noe_exp_e*np.log(noe_exp_e/noe_th_e)) \n",
    "            elif SM_nu_e[i] >= thrd_num:\n",
    "                chi_nu += (noe_th_e - noe_exp_e)*(noe_th_e - noe_exp_e)/(noe_exp_e)\n",
    "                \n",
    "        if SM_nu_tau[i] !=  0:\n",
    "            noe_th_tau = (get**2)*BSM_nu_tau_mu_get[i] + SM_nu_tau[i]\n",
    "            noe_exp_tau = ((0.002)**2)*NOE_nu_tau_BSM_BEST[i] + SM_nu_tau[i]            \n",
    "            if SM_nu_tau[i] < thrd_num:\n",
    "                chi_nu += 2*(noe_th_tau - noe_exp_tau + noe_exp_tau*np.log(noe_exp_tau/noe_th_tau)) \n",
    "            elif SM_nu_tau[i] >= thrd_num:\n",
    "                chi_nu += (noe_th_tau - noe_exp_tau)*(noe_th_tau - noe_exp_tau)/(noe_exp_tau)                \n",
    "          \n",
    "     \n",
    "    # chi anu\n",
    "    chi_anu = 0.0\n",
    "    for i in range(len(SM_anu_e)):\n",
    "        if SM_anu_e[i] !=  0:\n",
    "            noe_th_e = (get**2)*BSM_anu_e_mu_get[i] + SM_anu_e[i]\n",
    "            noe_exp_e = ((0.002)**2)*NOE_anu_e_BSM_BEST[i] + SM_anu_e[i]            \n",
    "            if SM_anu_e[i] < thrd_num:\n",
    "                chi_anu += 2*(noe_th_e - noe_exp_e + noe_exp_e*np.log(noe_exp_e/noe_th_e)) \n",
    "            elif SM_anu_e[i] >= thrd_num:\n",
    "                chi_anu += (noe_th_e - noe_exp_e)*(noe_th_e - noe_exp_e)/(noe_exp_e)\n",
    "                \n",
    "        if SM_anu_tau[i] !=  0:\n",
    "            noe_th_tau = (get**2)*BSM_anu_tau_mu_get[i] + SM_anu_tau[i]\n",
    "            noe_exp_tau = ((0.002)**2)*NOE_anu_tau_BSM_BEST[i] + SM_anu_tau[i]            \n",
    "            if SM_anu_tau[i] < thrd_num:\n",
    "                chi_anu += 2*(noe_th_tau - noe_exp_tau + noe_exp_tau*np.log(noe_exp_tau/noe_th_tau)) \n",
    "            elif SM_anu_tau[i] >= thrd_num:\n",
    "                chi_anu += (noe_th_tau - noe_exp_tau)*(noe_th_tau - noe_exp_tau)/(noe_exp_tau) \n",
    "                \n",
    "    return chi_anu + chi_nu"
   ]
  },
  {
   "cell_type": "code",
   "execution_count": 9,
   "metadata": {},
   "outputs": [],
   "source": [
    "res = 0.0001"
   ]
  },
  {
   "cell_type": "code",
   "execution_count": 10,
   "metadata": {},
   "outputs": [],
   "source": [
    "mVs = np.arange(0.0000000001, 0.015, 0.000125)\n"
   ]
  },
  {
   "cell_type": "code",
   "execution_count": 13,
   "metadata": {},
   "outputs": [],
   "source": [
    "chi2get1 = []\n",
    "output = './output/'\n",
    "\n",
    "gets = np.arange(0.000, 0.011, res)\n",
    "chi2get1_gets = []\n",
    "\n",
    "number = '0.010'+'000'\n",
    "NOE_nu_e_BSM_BEST = np.loadtxt(output + \"mV=%s_NOE_BSM_nu_e_mu_get.txt\"%number)\n",
    "NOE_nu_tau_BSM_BEST = np.loadtxt(output + \"mV=%s_NOE_BSM_nu_tau_mu_get.txt\"%number)\n",
    "NOE_anu_e_BSM_BEST = np.loadtxt(output + \"mV=%s_NOE_BSM_anu_e_mu_get.txt\"%number)\n",
    "NOE_anu_tau_BSM_BEST = np.loadtxt(output + \"mV=%s_NOE_BSM_anu_tau_mu_get.txt\"%number)\n",
    "\n",
    "number = '0.001'+'000'\n",
    "SM_nu_e = np.loadtxt(output + \"mV=%s_NOE_SM_nu_e.txt\"%number)\n",
    "SM_nu_tau = np.loadtxt(output + \"mV=%s_NOE_SM_nu_tau.txt\"%number)\n",
    "SM_anu_e = np.loadtxt(output + \"mV=%s_NOE_SM_anu_e.txt\"%number)\n",
    "SM_anu_tau = np.loadtxt(output + \"mV=%s_NOE_SM_anu_tau.txt\"%number)\n",
    "        \n",
    "for i in mVs:\n",
    "    for get in gets:\n",
    "        number = '%e'%i\n",
    "        \n",
    "        output = './wiz - highres/'\n",
    "        \n",
    "        BSM_anu_e_mu_get_path = output + \"mV=%s_NOE_BSM_anu_e_mu_get.txt\"%number\n",
    "        BSM_anu_e_mu_get_path = output + \"mV=%s_NOE_BSM_anu_e_mu_get.txt\"%number\n",
    "        BSM_anu_tau_mu_get_path = output + \"mV=%s_NOE_BSM_anu_tau_mu_get.txt\"%number\n",
    "\n",
    "        BSM_nu_e_mu_get_path = output + \"mV=%s_NOE_BSM_nu_e_mu_get.txt\"%number\n",
    "        BSM_nu_e_mu_get_path = output + \"mV=%s_NOE_BSM_nu_e_mu_get.txt\"%number\n",
    "        BSM_nu_tau_mu_get_path = output + \"mV=%s_NOE_BSM_nu_tau_mu_get.txt\"%number\n",
    "\n",
    "        # get\n",
    "\n",
    "        BSM_nu_tau_mu_get = np.loadtxt(BSM_nu_tau_mu_get_path)\n",
    "        BSM_anu_tau_mu_get = np.loadtxt(BSM_anu_tau_mu_get_path)\n",
    "\n",
    "        BSM_nu_e_mu_get = np.loadtxt(BSM_nu_e_mu_get_path)\n",
    "        BSM_anu_e_mu_get = np.loadtxt(BSM_anu_e_mu_get_path)\n",
    "\n",
    "        chi2get1_gets.append(chi2_get(SM_anu_e, SM_nu_e, SM_anu_tau, SM_nu_tau, BSM_nu_e_mu_get, BSM_anu_e_mu_get, BSM_nu_tau_mu_get, BSM_anu_tau_mu_get, NOE_nu_e_BSM_BEST, NOE_nu_tau_BSM_BEST, NOE_anu_e_BSM_BEST, NOE_anu_tau_BSM_BEST,get, n_faser ))\n",
    "    chi2get1.append(chi2get1_gets)\n",
    "    chi2get1_gets = []\n",
    "    \n",
    "for i in range(15,41):\n",
    "    for get in gets:\n",
    "\n",
    "        number = '%s'%i\n",
    "        number = '0.' + number.zfill(3) + '000'\n",
    "        \n",
    "\n",
    "        output = './output/'\n",
    "            \n",
    "\n",
    "\n",
    "        BSM_anu_e_mu_get_path = output + \"mV=%s_NOE_BSM_anu_e_mu_get.txt\"%number\n",
    "        BSM_anu_e_mu_get_path = output + \"mV=%s_NOE_BSM_anu_e_mu_get.txt\"%number\n",
    "        BSM_anu_tau_mu_get_path = output + \"mV=%s_NOE_BSM_anu_tau_mu_get.txt\"%number\n",
    "\n",
    "        BSM_nu_e_mu_get_path = output + \"mV=%s_NOE_BSM_nu_e_mu_get.txt\"%number\n",
    "        BSM_nu_e_mu_get_path = output + \"mV=%s_NOE_BSM_nu_e_mu_get.txt\"%number\n",
    "        BSM_nu_tau_mu_get_path = output + \"mV=%s_NOE_BSM_nu_tau_mu_get.txt\"%number\n",
    "\n",
    "        # get\n",
    "\n",
    "\n",
    "        \n",
    "        BSM_nu_tau_mu_get = np.loadtxt(BSM_nu_tau_mu_get_path)\n",
    "        BSM_anu_tau_mu_get = np.loadtxt(BSM_anu_tau_mu_get_path)\n",
    "\n",
    "        BSM_nu_e_mu_get = np.loadtxt(BSM_nu_e_mu_get_path)\n",
    "        BSM_anu_e_mu_get = np.loadtxt(BSM_anu_e_mu_get_path)\n",
    "\n",
    "\n",
    "\n",
    "        chi2get1_gets.append(chi2_get(SM_anu_e, SM_nu_e, SM_anu_tau, SM_nu_tau, BSM_nu_e_mu_get, BSM_anu_e_mu_get, BSM_nu_tau_mu_get, BSM_anu_tau_mu_get, NOE_nu_e_BSM_BEST, NOE_nu_tau_BSM_BEST, NOE_anu_e_BSM_BEST, NOE_anu_tau_BSM_BEST,get, n_faser ))\n",
    "    chi2get1.append(chi2get1_gets)\n",
    "    chi2get1_gets = []\n",
    "    "
   ]
  },
  {
   "cell_type": "code",
   "execution_count": 24,
   "metadata": {},
   "outputs": [],
   "source": [
    "chi2get1 = np.array(chi2get1)"
   ]
  },
  {
   "cell_type": "code",
   "execution_count": 25,
   "metadata": {},
   "outputs": [
    {
     "data": {
      "text/plain": [
       "0.07457842603916107"
      ]
     },
     "execution_count": 25,
     "metadata": {},
     "output_type": "execute_result"
    }
   ],
   "source": [
    "chi2get1[9,2]"
   ]
  },
  {
   "cell_type": "code",
   "execution_count": 26,
   "metadata": {},
   "outputs": [
    {
     "data": {
      "text/plain": [
       "(146, 110)"
      ]
     },
     "execution_count": 26,
     "metadata": {},
     "output_type": "execute_result"
    }
   ],
   "source": [
    "chi2get1.shape"
   ]
  },
  {
   "cell_type": "code",
   "execution_count": 28,
   "metadata": {},
   "outputs": [
    {
     "data": {
      "text/plain": [
       "134"
      ]
     },
     "execution_count": 28,
     "metadata": {},
     "output_type": "execute_result"
    }
   ],
   "source": [
    "len(mvs)"
   ]
  },
  {
   "cell_type": "code",
   "execution_count": 29,
   "metadata": {},
   "outputs": [
    {
     "data": {
      "text/plain": [
       "110"
      ]
     },
     "execution_count": 29,
     "metadata": {},
     "output_type": "execute_result"
    }
   ],
   "source": [
    "len(gets)"
   ]
  },
  {
   "cell_type": "code",
   "execution_count": 30,
   "metadata": {},
   "outputs": [
    {
     "name": "stderr",
     "output_type": "stream",
     "text": [
      "findfont: Font family ['normal'] not found. Falling back to DejaVu Sans.\n"
     ]
    },
    {
     "data": {
      "image/png": "[encoded data removed]",
      "text/plain": [
       "<Figure size 720x576 with 1 Axes>"
      ]
     },
     "metadata": {
      "needs_background": "light"
     },
     "output_type": "display_data"
    }
   ],
   "source": [
    "#%matplotlib qt\n",
    "%matplotlib inline \n",
    "\n",
    "label_size = 22\n",
    "tick_size = 18\n",
    "ticks_font = 'Calibri'\n",
    "fig, ax = plt.subplots(figsize=(10,8))\n",
    "\n",
    "\n",
    "\n",
    "mvs = np.concatenate((mVs,np.arange(0.015, 0.041, 0.001)), axis=0)\n",
    "gets = np.arange(0.000, 0.011, res)\n",
    "\n",
    "y , x = np.meshgrid(gets, mvs)\n",
    "CS = ax.contour(x, y , chi2get1, colors=('k', 'r', 'blue'),  levels =  [1,4,9]) \n",
    "\n",
    "labels = [r'1$\\sigma$', r'2$\\sigma$',r'3$\\sigma$']\n",
    "for i in range(len(labels)):\n",
    "    ax.collections[i].set_label(labels[i])\n",
    "    \n",
    "plt.legend(loc='lower right', frameon=True, fontsize = label_size-2)\n",
    "\n",
    "#ax.set_yscale('log')\n",
    "#ax.set_xscale('log')\n",
    "ax.set_xlabel(r\"$M_v (GeV)$\", fontsize = label_size)\n",
    "ax.set_ylabel(r\"$g_{et}$\", fontsize = label_size)\n",
    "\n",
    "ax.tick_params(which = 'major', axis='both', direction = 'inout', length=10,  width = 1.5)\n",
    "\n",
    "\n",
    "for label in ax.get_xticklabels():\n",
    "    label.set_fontproperties(ticks_font)\n",
    "\n",
    "for label in ax.get_yticklabels():\n",
    "    label.set_fontproperties(ticks_font)\n",
    "    \n",
    "for tick in ax.xaxis.get_major_ticks():\n",
    "    tick.label.set_fontsize(tick_size) \n",
    "    \n",
    "for tick in ax.yaxis.get_major_ticks():\n",
    "    tick.label.set_fontsize(tick_size) \n",
    "    \n",
    "    \n",
    "#ax.set_xlim(0.001, 0.04)\n",
    "\n",
    "ax.scatter(0.010, 0.002, marker = 'o', s = 150, c = 'k')\n",
    "\n",
    "plt.savefig(\"./Large_Mass_get_n_faser=%s_BESTFIT.pdf\"%str(n_faser))"
   ]
  },
  {
   "cell_type": "code",
   "execution_count": null,
   "metadata": {},
   "outputs": [],
   "source": []
  },
  {
   "cell_type": "code",
   "execution_count": null,
   "metadata": {},
   "outputs": [],
   "source": []
  },
  {
   "cell_type": "code",
   "execution_count": null,
   "metadata": {},
   "outputs": [],
   "source": []
  },
  {
   "cell_type": "code",
   "execution_count": null,
   "metadata": {},
   "outputs": [],
   "source": []
  },
  {
   "cell_type": "code",
   "execution_count": null,
   "metadata": {},
   "outputs": [],
   "source": []
  }
 ],
 "metadata": {
  "kernelspec": {
   "display_name": "Python 3",
   "language": "python",
   "name": "python3"
  },
  "language_info": {
   "codemirror_mode": {
    "name": "ipython",
    "version": 3
   },
   "file_extension": ".py",
   "mimetype": "text/x-python",
   "name": "python",
   "nbconvert_exporter": "python",
   "pygments_lexer": "ipython3",
   "version": "3.7.3"
  }
 },
 "nbformat": 4,
 "nbformat_minor": 2
}
